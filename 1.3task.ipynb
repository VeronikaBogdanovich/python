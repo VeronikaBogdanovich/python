{
 "cells": [
  {
   "cell_type": "code",
   "execution_count": 6,
   "metadata": {},
   "outputs": [],
   "source": [
    "def quickSort(arr, first, last):\n",
    "    if first < last:\n",
    "        q = findQ(arr, first, last)\n",
    "        quickSort(arr, first, q-1)\n",
    "        quickSort(arr, q+1, last)    \n",
    "    return arr;\n",
    "\n",
    "def findQ(arr, first, last):\n",
    "    pivot = arr[last]\n",
    "    index_of_smaller = first - 1\n",
    "    for j in range(first,last):\n",
    "        if (arr[j] <= pivot):\n",
    "            index_of_smaller += 1\n",
    "            temp = arr[index_of_smaller]\n",
    "            arr[index_of_smaller] = arr[j]\n",
    "            arr[j] = temp\n",
    "    temp = arr[index_of_smaller + 1]\n",
    "    arr[index_of_smaller + 1] = arr[last]\n",
    "    arr[last] = temp\n",
    "\n",
    "    return (index_of_smaller + 1); "
   ]
  },
  {
   "cell_type": "code",
   "execution_count": 7,
   "metadata": {},
   "outputs": [],
   "source": [
    "def increase(arr):\n",
    "    a = True\n",
    "    for i in range (len(arr)-1):\n",
    "        if(arr[i]<arr[i+1]):\n",
    "            i+=1\n",
    "        else:\n",
    "            a = False\n",
    "    return a\n",
    "\n",
    "def decrease(arr):\n",
    "    a = True\n",
    "    for i in range (len(arr)-1):\n",
    "        if(arr[i]>arr[i+1]):\n",
    "            i+=1\n",
    "        else:\n",
    "            a = False\n",
    "    return a\n",
    "\n",
    "\n",
    "def whatType(arr):\n",
    "    if (decrease(arr) == True):\n",
    "        print ('\\nУбывающая')\n",
    "    elif (increase(arr) == True):\n",
    "        print('\\nВозрастающая')\n",
    "    else:\n",
    "        print('\\nНе монотонна')\n"
   ]
  },
  {
   "cell_type": "code",
   "execution_count": 8,
   "metadata": {},
   "outputs": [],
   "source": [
    "def moreOrLess(arr):\n",
    "    for i in range (1,len(arr)):\n",
    "        if (decrease(arr) == True):\n",
    "            print ('количество элементов больше',arr[i-1],', предыдущего для',arr[i],':', i-1)\n",
    "            print ('количество элементов меньше',arr[i-1],', предыдущего для',arr[i],':', len(arr)-i)\n",
    "        elif (increase(arr) == True):\n",
    "            print ('количество элементов больше',arr[i-1],', предыдущего для',arr[i],':', len(arr)-i)\n",
    "            print ('количество элементов меньше',arr[i-1],', предыдущего для',arr[i],':', i-1)\n",
    "        else:\n",
    "            print('количество элементов больше',arr[i-1],', предыдущего для',arr[i],':', moreLess(arr,arr[i-1])[0])\n",
    "            print('количество элементов меньше',arr[i-1],', предыдущего для',arr[i],':', moreLess(arr,arr[i-1])[1])\n",
    "\n",
    "def moreLess(arr, previous):\n",
    "    countMore = 0\n",
    "    counLess = 0\n",
    "    for i in range (1,len(arr)):\n",
    "        if(previous<arr[i]):\n",
    "            countMore += 1\n",
    "        else:\n",
    "            counLess += 1\n",
    "    count = []\n",
    "    count.append(countMore)\n",
    "    count.append(counLess)\n",
    "    return count"
   ]
  },
  {
   "cell_type": "code",
   "execution_count": 9,
   "metadata": {},
   "outputs": [
    {
     "name": "stdout",
     "output_type": "stream",
     "text": [
      "Введите последовательность: 6 7 7 8 2 5 0 4\n",
      "\n",
      "Не монотонна\n",
      "количество элементов больше 6.0 , предыдущего для 7.0 : 3\n",
      "количество элементов меньше 6.0 , предыдущего для 7.0 : 4\n",
      "количество элементов больше 7.0 , предыдущего для 7.0 : 1\n",
      "количество элементов меньше 7.0 , предыдущего для 7.0 : 6\n",
      "количество элементов больше 7.0 , предыдущего для 8.0 : 1\n",
      "количество элементов меньше 7.0 , предыдущего для 8.0 : 6\n",
      "количество элементов больше 8.0 , предыдущего для 2.0 : 0\n",
      "количество элементов меньше 8.0 , предыдущего для 2.0 : 7\n",
      "количество элементов больше 2.0 , предыдущего для 5.0 : 5\n",
      "количество элементов меньше 2.0 , предыдущего для 5.0 : 2\n",
      "количество элементов больше 5.0 , предыдущего для 0.0 : 3\n",
      "количество элементов меньше 5.0 , предыдущего для 0.0 : 4\n",
      "количество элементов больше 0.0 , предыдущего для 4.0 : 6\n",
      "количество элементов меньше 0.0 , предыдущего для 4.0 : 1\n",
      "[0.0]\n",
      "[0.0, 2.0]\n",
      "[0.0, 2.0, 4.0]\n",
      "[0.0, 2.0, 4.0, 5.0]\n",
      "[0.0, 2.0, 4.0, 5.0, 6.0]\n",
      "[0.0, 2.0, 4.0, 5.0, 6.0, 7.0]\n",
      "[0.0, 2.0, 4.0, 5.0, 6.0, 7.0, 7.0]\n"
     ]
    }
   ],
   "source": [
    "arr = list(map(float,input('Введите последовательность: ').split()))\n",
    "whatType(arr)\n",
    "moreOrLess(arr)\n",
    "newArr = quickSort(arr,0, len(arr)-1)\n",
    "new = []\n",
    "for i in range (len(arr)-1):\n",
    "    new.append(newArr[i])\n",
    "    print(new)"
   ]
  },
  {
   "cell_type": "code",
   "execution_count": null,
   "metadata": {},
   "outputs": [],
   "source": []
  }
 ],
 "metadata": {
  "kernelspec": {
   "display_name": "Python 3",
   "language": "python",
   "name": "python3"
  },
  "language_info": {
   "codemirror_mode": {
    "name": "ipython",
    "version": 3
   },
   "file_extension": ".py",
   "mimetype": "text/x-python",
   "name": "python",
   "nbconvert_exporter": "python",
   "pygments_lexer": "ipython3",
   "version": "3.7.0"
  }
 },
 "nbformat": 4,
 "nbformat_minor": 2
}
