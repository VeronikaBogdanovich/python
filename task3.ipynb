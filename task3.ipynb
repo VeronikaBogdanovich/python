{
 "cells": [
  {
   "cell_type": "code",
   "execution_count": 5,
   "metadata": {
    "scrolled": true
   },
   "outputs": [
    {
     "name": "stdout",
     "output_type": "stream",
     "text": [
      "Alex Mix: {'cheese': 4}\n",
      "Ann Metel: {'bread': 2, 'chocolate': 4, 'milk': 6}\n",
      "Can Yaman: {'coffee': 8}\n",
      "Irina Vaskova: {'cake': 8, 'milk': 2, 'pie': 9}\n",
      "John Doe: {'milk': 9}\n",
      "Veronika Bogdanovich: {'bacon': 2, 'cheese': 2, 'eggs': 5, 'milk': 2}\n"
     ]
    }
   ],
   "source": [
    "bd = sorted(map(lambda x: tuple([x.split('|')[0], x.split('|')[1], int(x.split('|')[2])]), open(\"first_task.txt\", \"r\").read().split(\"\\n\")))\n",
    "\n",
    "user_list = {}\n",
    "for index, user in enumerate(bd):\n",
    "    if user[0] not in user_list:\n",
    "        user_list[user[0]] = {}\n",
    "\n",
    "    if user[1] not in user_list[user[0]]:\n",
    "        user_list[user[0]][user[1]] = 0\n",
    "\n",
    "    user_list[user[0]][user[1]] += user[2]\n",
    "\n",
    "for key in sorted(user_list):\n",
    "    print (\"%s: %s\" % (key, user_list[key]))"
   ]
  },
  {
   "cell_type": "code",
   "execution_count": 6,
   "metadata": {},
   "outputs": [
    {
     "name": "stdout",
     "output_type": "stream",
     "text": [
      "{'file1': ['R', 'W'], 'file2': ['X'], 'file3': ['W', 'X'], 'file4': ['R', 'W', 'X'], 'file5': ['W', 'X']}\n",
      "OK\n",
      "OK\n",
      "OK\n",
      "OK\n",
      "Access denied\n",
      "Access denied\n",
      "Access denied\n",
      "Access denied\n",
      "OK\n",
      "OK\n"
     ]
    }
   ],
   "source": [
    "def main():\n",
    "    f = open(\"second_task.txt\", \"r\")\n",
    "\n",
    "    n = int(f.readline())\n",
    "\n",
    "    files = {}\n",
    "    for i in range(n):\n",
    "        temp = f.readline().split()\n",
    "        files[temp[0]] = temp[1:]\n",
    "\n",
    "    print(files)\n",
    "\n",
    "    m = int(f.readline())\n",
    "    for i in range(m):\n",
    "        temp = f.readline().split()\n",
    "        if temp[1] in files[temp[0]]:\n",
    "            print(\"OK\")\n",
    "        else:\n",
    "            print(\"Access denied\")\n",
    "\n",
    "    f.close()\n",
    "\n",
    "\n",
    "main()"
   ]
  },
  {
   "cell_type": "code",
   "execution_count": 8,
   "metadata": {},
   "outputs": [
    {
     "name": "stdout",
     "output_type": "stream",
     "text": [
      "Enter n, m: 8 9\n",
      "8 9\n",
      "[[  9   8 -10 -11 -12 -13 -14 -15]\n",
      " [  8   9   8 -10 -11 -12 -13 -14]\n",
      " [-10   8   9   8 -10 -11 -12 -13]\n",
      " [-11 -10   8   9   8 -10 -11 -12]\n",
      " [-12 -11 -10   8   9   8 -10 -11]\n",
      " [-13 -12 -11 -10   8   9   8 -10]\n",
      " [-14 -13 -12 -11 -10   8   9   8]\n",
      " [-15 -14 -13 -12 -11 -10   8   9]]\n"
     ]
    }
   ],
   "source": [
    "import numpy as np\n",
    "\n",
    "\n",
    "def main():\n",
    "    n, m = map(int, input(\"Enter n, m: \").split())\n",
    "    print(n, m)\n",
    "\n",
    "    matrix = np.array([\n",
    "        [\n",
    "            m if i == j else (\n",
    "                m - abs(i - j) if m - abs(i - j) >= n and m >= n else (\n",
    "                    -abs(i - j) - n if m - abs(i - j) < n <= m else (\n",
    "                        m + abs(i - j) if m + abs(i - j) <= n and m < n else (\n",
    "                            -2 * m - abs(i - j) + n if m + abs(i - j) > n > m else 999))))\n",
    "            for j in range(n)\n",
    "        ]\n",
    "        for i in range(n)\n",
    "    ])\n",
    "\n",
    "    print(matrix)\n",
    "\n",
    "\n",
    "main()"
   ]
  }
 ],
 "metadata": {
  "kernelspec": {
   "display_name": "Python 3",
   "language": "python",
   "name": "python3"
  },
  "language_info": {
   "codemirror_mode": {
    "name": "ipython",
    "version": 3
   },
   "file_extension": ".py",
   "mimetype": "text/x-python",
   "name": "python",
   "nbconvert_exporter": "python",
   "pygments_lexer": "ipython3",
   "version": "3.7.0"
  }
 },
 "nbformat": 4,
 "nbformat_minor": 2
}
