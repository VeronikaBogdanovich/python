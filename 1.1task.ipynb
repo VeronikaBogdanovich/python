{
 "cells": [
  {
   "cell_type": "code",
   "execution_count": 62,
   "metadata": {},
   "outputs": [
    {
     "name": "stdout",
     "output_type": "stream",
     "text": [
      "Enter N:10.23\n",
      "Enter n:5\n",
      "Simple numbers:  [2, 3, 5, 7]\n",
      "Count: 4\n",
      "Simple numbers in  2 degree:\n",
      "[4, 9, 25, 49]\n",
      "Simple numbers in  3 degree:\n",
      "[8, 27, 125, 343]\n",
      "Simple numbers in  4 degree:\n",
      "[16, 81, 625, 2401]\n",
      "Simple numbers in  5 degree:\n",
      "[32, 243, 3125, 16807]\n"
     ]
    }
   ],
   "source": [
    "import math\n",
    "\n",
    "N=float(input('Enter N:'))\n",
    "if (N<0):\n",
    "    N = int(input('Enter correct N:'))\n",
    "n=int(input('Enter n:'))\n",
    "if (n<0):\n",
    "    n = int(input('Enter correct N:'))\n",
    "N = math.ceil(N)\n",
    "simpleArr = []\n",
    "for i in range (2, N):\n",
    "    isSimple = True\n",
    "    for j in range(2, i):\n",
    "        if (i%j) == 0:\n",
    "            isSimple = False\n",
    "    if (isSimple):\n",
    "        simpleArr.append(i)\n",
    "print(\"Simple numbers: \",simpleArr)\n",
    "print(\"Count:\", len(simpleArr))\n",
    "for k in range (2,n+1):\n",
    "    print(\"Simple numbers in \", k ,\"degree:\")\n",
    "    new = []\n",
    "    for m in range (len(simpleArr)):\n",
    "        new.append((simpleArr[m])**k)\n",
    "    print(new) "
   ]
  },
  {
   "cell_type": "code",
   "execution_count": null,
   "metadata": {},
   "outputs": [],
   "source": []
  }
 ],
 "metadata": {
  "kernelspec": {
   "display_name": "Python 3",
   "language": "python",
   "name": "python3"
  },
  "language_info": {
   "codemirror_mode": {
    "name": "ipython",
    "version": 3
   },
   "file_extension": ".py",
   "mimetype": "text/x-python",
   "name": "python",
   "nbconvert_exporter": "python",
   "pygments_lexer": "ipython3",
   "version": "3.7.0"
  }
 },
 "nbformat": 4,
 "nbformat_minor": 2
}
