{
 "cells": [
  {
   "cell_type": "code",
   "execution_count": 1,
   "metadata": {},
   "outputs": [],
   "source": [
    "def findY(z):\n",
    "    y=0\n",
    "    number=0\n",
    "    while ((D-C*z-B*(y+1))>=1):\n",
    "        y+=1\n",
    "        print('x=%d, y=%d, z=%d'%((D-C*z-B*y)/A,y,z))\n",
    "        number+=1\n",
    "    return number"
   ]
  },
  {
   "cell_type": "code",
   "execution_count": null,
   "metadata": {},
   "outputs": [
    {
     "name": "stdout",
     "output_type": "stream",
     "text": [
      "Введи A:6\n",
      "Введи B:20\n"
     ]
    }
   ],
   "source": [
    "A = int(input('Введи A:'))\n",
    "B = int(input('Введи B:'))\n",
    "C = int(input('Введи C:'))\n",
    "D = int(input('Введи D:'))\n",
    "print('Уравнение:',A,'x +',B,'y +',C,'z =',D)\n",
    "z=0\n",
    "num=0\n",
    "while ((D-C*(z+1))>=2):\n",
    "    z+=1\n",
    "    num+=findY(z)\n",
    "print('Количество решений: ', num)"
   ]
  },
  {
   "cell_type": "code",
   "execution_count": null,
   "metadata": {},
   "outputs": [],
   "source": []
  }
 ],
 "metadata": {
  "kernelspec": {
   "display_name": "Python 3",
   "language": "python",
   "name": "python3"
  },
  "language_info": {
   "codemirror_mode": {
    "name": "ipython",
    "version": 3
   },
   "file_extension": ".py",
   "mimetype": "text/x-python",
   "name": "python",
   "nbconvert_exporter": "python",
   "pygments_lexer": "ipython3",
   "version": "3.7.0"
  }
 },
 "nbformat": 4,
 "nbformat_minor": 2
}
