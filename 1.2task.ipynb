{
 "cells": [
  {
   "cell_type": "code",
   "execution_count": 9,
   "metadata": {},
   "outputs": [],
   "source": [
    "def findMin(arr):\n",
    "    minNum=1000;\n",
    "    for q in range(len(arr)):\n",
    "        if(arr[q]<minNum):\n",
    "            minNum=arr[q]\n",
    "    return minNum\n",
    "\n",
    "def findMax(arr):\n",
    "    maxNum=0;\n",
    "    for t in range(len(arr)):\n",
    "        if(arr[t]>maxNum):\n",
    "            maxNum=arr[t]\n",
    "    return maxNum\n",
    "\n",
    "def findPreMin(arr):\n",
    "    minNum=1000;\n",
    "    minvalue=findMin(arr)\n",
    "    for q in range(0,len(arr)):\n",
    "        if(arr[q]<minNum and arr[q]!=minvalue):\n",
    "            minNum=arr[q]\n",
    "    return minNum\n",
    "\n",
    "def findPreMax(arr):\n",
    "    maxNum=0;\n",
    "    maxvalue=findMax(arr)\n",
    "    for t in range(len(arr)):\n",
    "        if(arr[t]>maxNum and arr[t]!=maxvalue):\n",
    "            maxNum=arr[t]\n",
    "    return maxNum"
   ]
  },
  {
   "cell_type": "code",
   "execution_count": 10,
   "metadata": {},
   "outputs": [],
   "source": [
    "def counter(arr,num):\n",
    "    count=0;\n",
    "    for c in range(len(arr)):\n",
    "        if(arr[c]==num):\n",
    "            count+=1\n",
    "    return count"
   ]
  },
  {
   "cell_type": "code",
   "execution_count": 11,
   "metadata": {},
   "outputs": [],
   "source": [
    "def getIndex(arr,value):\n",
    "    for index in range(len(arr)):\n",
    "        if(arr[index]==value):\n",
    "            print(index+1,' ',end='')"
   ]
  },
  {
   "cell_type": "code",
   "execution_count": 13,
   "metadata": {},
   "outputs": [
    {
     "name": "stdout",
     "output_type": "stream",
     "text": [
      "Введите последовательность: 4 5 8 8 -7 2 10 -3 -3 0\n",
      "N= 8.0 M= -3.0\n",
      "N повторяется  2  раз и M повторяется  2  раз\n",
      "индекс числа N( 8.0 ): 3  4  \n",
      "индекс числа M( -3.0 ): 8  9  "
     ]
    }
   ],
   "source": [
    "arr = list(map(float,input('Введите последовательность: ').split()))\n",
    "M=findPreMin(arr)\n",
    "N=findPreMax(arr)\n",
    "if (N != M):\n",
    "    print('N=',N,'M=',M)\n",
    "    print('N повторяется ',counter(arr,N),' раз и M повторяется ',counter(arr,M),' раз')\n",
    "    print('индекс числа N(',N,'): ',end='')\n",
    "    getIndex(arr,N)\n",
    "    print('\\nиндекс числа M(',M,'): ',end='')\n",
    "    getIndex(arr,M)\n",
    "else:\n",
    "    print('N=M=',M)\n",
    "    print('Повторяется: ',counter(arr,N))\n",
    "    print('индекс числа N=M(',N,'): ',end='')\n",
    "    getIndex(arr,N)"
   ]
  },
  {
   "cell_type": "code",
   "execution_count": null,
   "metadata": {},
   "outputs": [],
   "source": []
  }
 ],
 "metadata": {
  "kernelspec": {
   "display_name": "Python 3",
   "language": "python",
   "name": "python3"
  },
  "language_info": {
   "codemirror_mode": {
    "name": "ipython",
    "version": 3
   },
   "file_extension": ".py",
   "mimetype": "text/x-python",
   "name": "python",
   "nbconvert_exporter": "python",
   "pygments_lexer": "ipython3",
   "version": "3.7.0"
  }
 },
 "nbformat": 4,
 "nbformat_minor": 2
}
